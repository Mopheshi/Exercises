{
 "cells": [
  {
   "cell_type": "markdown",
   "metadata": {
    "id": "YfknStK6Y1QM"
   },
   "source": [
    "# Assignment 1 - Identifying and Fixing Bugs in Code Using an LLM\n",
    "\n",
    "Welcome to the first assignment in the Generative AI for Software Development - Team Software Engineering course. In this assignment, you'll see several pieces of code containing bugs or issues. Your task is to identify and correct these errors. While it might be possible to debug each problem yourself, you'll find that using a large language model will help you tackle these challenges more efficiently, and might even bring up solutions you hadn't considered. This approach not only enhances your debugging skills but also introduces you to the practical applications of LLMs in software development. Get ready to sharpen your problem-solving abilities and delve into the world of code correction with an AI assistant by your side."
   ]
  },
  {
   "cell_type": "markdown",
   "metadata": {},
   "source": [
    "## 1 - Instructions\n",
    "\n",
    "For each exercise, you will be provided with a function/class that is intended to work correctly, except for the last exercise, which will be discussed in due course. However, each function will contain a bug or inconsistency. Your task is to write a new function that performs the same task as the original one but with all identified bugs or issues resolved. You may ask an LLM to build unittests for you or even ask it to help you solving the exercise, it is up to you! Remember that you can also use the `unittests.py` file to debug what is going on and even using an LLM to help you in this task.\n",
    "\n",
    "Each exercise comes with a set of constraints that you must adhere to. Failure to follow these guidelines will result in not passing the respective exercise.\n",
    "\n",
    "The format is as follows:\n",
    "\n",
    "The function or class requiring correction will be named, for example, `function_1`. You must write its improved version in the designated solution block, naming it `function_1_fixed`. **Do NOT** alter the function's parameters or name, as doing so will break autograder, resulting in a failure to pass the exercise.\n",
    "\n",
    "**FINAL INSTRUCTIONS**\n",
    "\n",
    "- If you have doubts, you can prompt the LLM how to run your test cases\n",
    "- If you face runtime errors, you can prompt the LLM on how to fix the errors.\n",
    "- If you are failing in the unittests, you can open the unittests.py file and ask an LLM to explain to you the tests that are being performed."
   ]
  },
  {
   "cell_type": "code",
   "execution_count": 1,
   "metadata": {},
   "outputs": [],
   "source": [
    "import unittests"
   ]
  },
  {
   "cell_type": "markdown",
   "metadata": {
    "id": "8s_Bm9ZPbNwj"
   },
   "source": [
    "### Exercise 1 - Check if a Sentence is a Palindrome\n",
    "\n",
    "Your task in this exercise is to debug and correct the given function that checks whether a sentence is a palindrome.\n",
    "\n",
    "**Constraints**: The use of external libraries is **prohibited**."
   ]
  },
  {
   "cell_type": "code",
   "execution_count": 2,
   "metadata": {
    "id": "lcFebKlCawf_"
   },
   "outputs": [],
   "source": [
    "def is_palindrome(sentence):\n",
    "    # Compare characters from both ends\n",
    "    left, right = 0, len(sentence)-1\n",
    "    while left <= right:\n",
    "        if sentence[left] != sentence[right]:\n",
    "            return False\n",
    "        left += 1\n",
    "        right -= 1\n",
    "    return True"
   ]
  },
  {
   "cell_type": "code",
   "execution_count": 3,
   "metadata": {
    "colab": {
     "base_uri": "https://localhost:8080/"
    },
    "id": "q9UZKfMSh6Fv",
    "outputId": "948c73f7-503b-432e-8e29-a231c95f9da2",
    "tags": [
     "graded"
    ]
   },
   "outputs": [],
   "source": [
    "# Exercise block. Do not change the function input parameters.\n",
    "\n",
    "def is_palindrome_fixed(sentence):\n",
    "    # Your code here\n",
    "    cleaned = ''.join(char.lower() for char in sentence if char.isalnum())\n",
    "    return cleaned == cleaned[::-1]"
   ]
  },
  {
   "cell_type": "code",
   "execution_count": 4,
   "metadata": {},
   "outputs": [
    {
     "name": "stdout",
     "output_type": "stream",
     "text": [
      "\u001b[92m All tests passed!\n"
     ]
    }
   ],
   "source": [
    "unittests.test_is_palindrome_fixed(is_palindrome_fixed)"
   ]
  },
  {
   "cell_type": "markdown",
   "metadata": {
    "id": "z2qbEBCedkPn"
   },
   "source": [
    "### Exercise 2 - Implementing Dijkstra's Algorithm\n",
    "\n",
    "This exercise involves debugging a function that implements Dijkstra's algorithm to calculate the shortest path from node 0 to every other node in a graph and outputs a dictionary with every node and its distance from 0 as well as a boolean saying whether all nodes are reachable or not. The function reads a `graph.json` file from the local directory to obtain the graph, which is **not** provided. The graph is expected to consist of exactly `20` nodes.\n",
    "\n",
    "**Instructions**: \n",
    "- The function's output must remain consistent, retaining the same order.\n",
    "\n",
    "**Constraints**: \n",
    "- Only libraries that are already imported in the exercise block may be used.\n",
    "\n",
    "**Hints**:\n",
    "- A helper function exists for deserializing a `graph.json`. You can request an LLM to outline the structure of the graph in the .json file, ensuring it can be correctly loaded by this function, and to generate some example files for testing.\n",
    "- Knowing the graph's structure allows you to ask an LLM to create some graphs fitting this structure, enabling you to test your code with various graphs.\n",
    "- Before identifying potential bugs, consider asking an LLM to explain the function's workings."
   ]
  },
  {
   "cell_type": "code",
   "execution_count": 5,
   "metadata": {},
   "outputs": [],
   "source": [
    "from collections import defaultdict\n",
    "import json\n",
    "## Helper function - Do NOT edit or overwrite it in the solution block.\n",
    "\n",
    "# Deserialize graph from JSON\n",
    "# The graph has 20 nodes, numbered 0-19\n",
    "def deserialize_graph(filename):\n",
    "    with open(filename, 'r') as f:\n",
    "        data = json.load(f)\n",
    "    return defaultdict(list, {int(k): v for k, v in data.items()})"
   ]
  },
  {
   "cell_type": "code",
   "execution_count": 6,
   "metadata": {
    "colab": {
     "base_uri": "https://localhost:8080/"
    },
    "id": "r--D9XYydjwE",
    "outputId": "e64cda2e-05d4-476a-b599-39671032adcb"
   },
   "outputs": [],
   "source": [
    "import heapq\n",
    "\n",
    "def dijkstra(graph, start):\n",
    "    distances = {node: float('infinity') for node in range(20)}\n",
    "    distances[start] = 0\n",
    "    pq = [(0, start)]\n",
    "    visited = set()\n",
    "\n",
    "    while pq:\n",
    "        current_distance, current_node = heapq.heappop(pq)\n",
    "\n",
    "        if current_node in visited:\n",
    "            continue\n",
    "\n",
    "        visited.add(current_node)\n",
    "\n",
    "        for neighbor, weight in graph[current_node]:\n",
    "            distance = current_distance + weight\n",
    "            if distance < distances[neighbor]:\n",
    "                distances[neighbor] = distance\n",
    "                heapq.heappush(pq, (distance, neighbor))\n",
    "    all_nodes_visited = len(distances) == 20\n",
    "    \n",
    "    return distances, all_nodes_visited"
   ]
  },
  {
   "cell_type": "code",
   "execution_count": 20,
   "metadata": {
    "colab": {
     "base_uri": "https://localhost:8080/"
    },
    "id": "Y-Lr9GwWmYsh",
    "outputId": "777cba5b-ce35-4af2-ff98-0e4c17ac34c7",
    "tags": [
     "graded"
    ]
   },
   "outputs": [],
   "source": [
    "# Exercise block. Do not add or remove any library and do not add/remove any argument in the function.\n",
    "import heapq\n",
    "\n",
    "def dijkstra_fixed(graph, start):\n",
    "    # Initialize distances dictionary with 'inf' and set the start node distance to 0\n",
    "    distances = {node: float('inf') for node in graph}\n",
    "    distances[start] = 0\n",
    "\n",
    "    # Priority queue to process nodes, starting from the start node\n",
    "    priority_queue = [(0, start)]\n",
    "\n",
    "    while priority_queue:\n",
    "        current_distance, current_node = heapq.heappop(priority_queue)\n",
    "\n",
    "        # Skip if the distance is outdated\n",
    "        if current_distance > distances[current_node]:\n",
    "            continue\n",
    "\n",
    "        # Process neighbors\n",
    "        for neighbor, weight in graph[str(current_node)]:\n",
    "            distance = current_distance + weight\n",
    "\n",
    "            # Only update the shortest known path to a neighbor\n",
    "            if distance < distances[neighbor]:\n",
    "                distances[neighbor] = distance\n",
    "                heapq.heappush(priority_queue, (distance, neighbor))\n",
    "\n",
    "    # Check if all nodes are reachable (i.e., no node has distance float('inf'))\n",
    "    valid_path = all(dist != float('inf') for dist in distances.values())\n",
    "\n",
    "    return distances, valid_path"
   ]
  },
  {
   "cell_type": "code",
   "execution_count": 21,
   "metadata": {},
   "outputs": [
    {
     "name": "stdout",
     "output_type": "stream",
     "text": [
      "\u001b[91mFailed test case: <function dijkstra_fixed at 0x78beeaa08220> should return False for graph = defaultdict(<class 'list'>, {0: [[1, 2], [2, 9], [3, 4], [4, 2], [5, 2], [7, 8], [8, 7], [9, 8], [10, 3], [11, 2], [12, 1], [13, 2], [15, 5], [16, 2], [17, 8], [19, 9]], 1: [[0, 2], [2, 2], [3, 5], [4, 9], [5, 10], [7, 7], [8, 9], [9, 4], [10, 2], [11, 10], [12, 4], [13, 8], [15, 6], [16, 6], [17, 2], [19, 5]], 2: [[0, 9], [1, 2], [3, 9], [4, 5], [5, 1], [7, 7], [8, 5], [9, 2], [10, 7], [11, 8], [12, 1], [13, 4], [15, 6], [16, 10], [17, 8], [19, 5]], 3: [[0, 4], [1, 5], [2, 9], [4, 7], [5, 7], [7, 8], [8, 6], [9, 3], [10, 4], [11, 1], [12, 9], [13, 5], [15, 5], [16, 5], [17, 4], [19, 9]], 4: [[0, 2], [1, 9], [2, 5], [3, 7], [5, 3], [7, 3], [8, 4], [9, 1], [10, 9], [11, 7], [12, 2], [13, 5], [15, 5], [16, 9], [17, 8], [19, 9]], 5: [[0, 2], [1, 10], [2, 1], [3, 7], [4, 3], [7, 10], [8, 9], [9, 8], [10, 8], [11, 8], [12, 4], [13, 5], [15, 8], [16, 5], [17, 1], [19, 9]], 6: [[1, 4], [2, 10], [3, 4], [4, 9], [5, 10], [7, 3], [8, 4], [9, 7], [10, 5], [11, 1], [12, 6], [13, 10], [15, 9], [16, 10], [17, 2], [19, 3]], 7: [[0, 8], [1, 7], [2, 7], [3, 8], [4, 3], [5, 10], [8, 10], [9, 4], [10, 2], [11, 1], [12, 7], [13, 5], [15, 2], [16, 9], [17, 2], [19, 4]], 8: [[0, 7], [1, 9], [2, 5], [3, 6], [4, 4], [5, 9], [7, 10], [9, 7], [10, 4], [11, 8], [12, 9], [13, 6], [15, 9], [16, 9], [17, 9], [19, 9]], 9: [[0, 8], [1, 4], [2, 2], [3, 3], [4, 1], [5, 8], [7, 4], [8, 7], [10, 3], [11, 10], [12, 8], [13, 10], [15, 7], [16, 2], [17, 4], [19, 4]], 10: [[0, 3], [1, 2], [2, 7], [3, 4], [4, 9], [5, 8], [7, 2], [8, 4], [9, 3], [11, 5], [12, 5], [13, 10], [15, 2], [16, 4], [17, 3], [19, 7]], 11: [[0, 2], [1, 10], [2, 8], [3, 1], [4, 7], [5, 8], [7, 1], [8, 8], [9, 10], [10, 5], [12, 3], [13, 1], [15, 10], [16, 8], [17, 10], [19, 4]], 12: [[0, 1], [1, 4], [2, 1], [3, 9], [4, 2], [5, 4], [7, 7], [8, 9], [9, 8], [10, 5], [11, 3], [13, 7], [15, 3], [16, 5], [17, 5], [19, 1]], 13: [[0, 2], [1, 8], [2, 4], [3, 5], [4, 5], [5, 5], [7, 5], [8, 6], [9, 10], [10, 10], [11, 1], [12, 7], [15, 10], [16, 10], [17, 3], [19, 4]], 14: [[1, 10], [2, 1], [3, 10], [4, 3], [5, 4], [7, 6], [8, 4], [9, 8], [10, 5], [11, 9], [12, 9], [13, 9], [15, 7], [16, 6], [17, 10], [19, 10]], 15: [[0, 5], [1, 6], [2, 6], [3, 5], [4, 5], [5, 8], [7, 2], [8, 9], [9, 7], [10, 2], [11, 10], [12, 3], [13, 10], [16, 5], [17, 4], [19, 6]], 16: [[0, 2], [1, 6], [2, 10], [3, 5], [4, 9], [5, 5], [7, 9], [8, 9], [9, 2], [10, 4], [11, 8], [12, 5], [13, 10], [15, 5], [17, 2], [19, 9]], 17: [[0, 8], [1, 2], [2, 8], [3, 4], [4, 8], [5, 1], [7, 2], [8, 9], [9, 4], [10, 3], [11, 10], [12, 5], [13, 3], [15, 4], [16, 2], [19, 6]], 18: [[1, 3], [2, 7], [3, 2], [4, 3], [5, 3], [7, 10], [8, 4], [9, 2], [10, 7], [11, 1], [12, 3], [13, 10], [15, 1], [16, 4], [17, 10], [19, 10]], 19: [[0, 9], [1, 5], [2, 5], [3, 9], [4, 9], [5, 9], [7, 4], [8, 9], [9, 4], [10, 7], [11, 4], [12, 1], [13, 4], [15, 6], [16, 9], [17, 6]], '0': []}).\n",
      "Expected: False\n",
      "Got: True\n",
      "\n",
      "\u001b[91mFailed test case: <function dijkstra_fixed at 0x78beeaa08220> should return False for graph = defaultdict(<class 'list'>, {0: [[3, 5], [4, 2], [6, 1], [8, 10], [9, 9], [10, 7], [12, 6], [13, 9], [14, 3], [15, 4], [17, 9], [18, 3], [19, 7]], 1: [[3, 5], [4, 6], [6, 3], [8, 2], [9, 2], [10, 4], [12, 4], [13, 1], [14, 5], [15, 9], [17, 9], [18, 3], [19, 10]], 2: [[3, 6], [4, 5], [6, 10], [8, 8], [9, 2], [10, 9], [12, 6], [13, 8], [14, 3], [15, 7], [17, 6], [18, 5], [19, 8]], 3: [[0, 5], [4, 1], [6, 7], [8, 6], [9, 4], [10, 6], [12, 7], [13, 1], [14, 8], [15, 6], [17, 6], [18, 5], [19, 5]], 4: [[0, 2], [3, 1], [6, 6], [8, 1], [9, 3], [10, 7], [12, 5], [13, 5], [14, 3], [15, 10], [17, 10], [18, 1], [19, 8]], 5: [[3, 10], [4, 9], [6, 1], [8, 10], [9, 2], [10, 7], [12, 5], [13, 2], [14, 7], [15, 5], [17, 9], [18, 7], [19, 7]], 6: [[0, 1], [3, 7], [4, 6], [8, 7], [9, 2], [10, 4], [12, 3], [13, 5], [14, 7], [15, 1], [17, 10], [18, 10], [19, 8]], 7: [[3, 8], [4, 7], [6, 10], [8, 5], [9, 9], [10, 6], [12, 3], [13, 7], [14, 4], [15, 7], [17, 8], [18, 10], [19, 6]], 8: [[0, 10], [3, 6], [4, 1], [6, 7], [9, 6], [10, 10], [12, 7], [13, 5], [14, 8], [15, 3], [17, 5], [18, 4], [19, 3]], 9: [[0, 9], [3, 4], [4, 3], [6, 2], [8, 6], [10, 1], [12, 10], [13, 10], [14, 7], [15, 4], [17, 5], [18, 9], [19, 10]], 10: [[0, 7], [3, 6], [4, 7], [6, 4], [8, 10], [9, 1], [12, 6], [13, 8], [14, 3], [15, 3], [17, 8], [18, 8], [19, 1]], 11: [[3, 3], [4, 10], [6, 8], [8, 3], [9, 6], [10, 1], [12, 10], [13, 4], [14, 7], [15, 8], [17, 3], [18, 6], [19, 4]], 12: [[0, 6], [3, 7], [4, 5], [6, 3], [8, 7], [9, 10], [10, 6], [13, 6], [14, 5], [15, 9], [17, 6], [18, 7], [19, 9]], 13: [[0, 9], [3, 1], [4, 5], [6, 5], [8, 5], [9, 10], [10, 8], [12, 6], [14, 5], [15, 5], [17, 1], [18, 8], [19, 8]], 14: [[0, 3], [3, 8], [4, 3], [6, 7], [8, 8], [9, 7], [10, 3], [12, 5], [13, 5], [15, 7], [17, 1], [18, 8], [19, 8]], 15: [[0, 4], [3, 6], [4, 10], [6, 1], [8, 3], [9, 4], [10, 3], [12, 9], [13, 5], [14, 7], [17, 2], [18, 7], [19, 2]], 16: [[3, 9], [4, 7], [6, 7], [8, 7], [9, 7], [10, 3], [12, 6], [13, 10], [14, 6], [15, 6], [17, 2], [18, 5], [19, 7]], 17: [[0, 9], [3, 6], [4, 10], [6, 10], [8, 5], [9, 5], [10, 8], [12, 6], [13, 1], [14, 1], [15, 2], [18, 4], [19, 6]], 18: [[0, 3], [3, 5], [4, 1], [6, 10], [8, 4], [9, 9], [10, 8], [12, 7], [13, 8], [14, 8], [15, 7], [17, 4], [19, 4]], 19: [[0, 7], [3, 5], [4, 8], [6, 8], [8, 3], [9, 10], [10, 1], [12, 9], [13, 8], [14, 8], [15, 2], [17, 6], [18, 4]], '0': []}).\n",
      "Expected: False\n",
      "Got: True\n",
      "\n",
      "\u001b[91mFailed test case: <function dijkstra_fixed at 0x78beeaa08220> should return False for graph = defaultdict(<class 'list'>, {0: [[2, 1], [3, 7], [4, 5], [5, 9], [6, 10], [7, 9], [9, 8], [11, 6], [12, 2], [14, 10], [15, 3], [16, 9], [19, 9]], 1: [[2, 9], [3, 2], [4, 3], [5, 4], [6, 1], [7, 3], [9, 1], [11, 7], [12, 5], [14, 9], [15, 6], [16, 10], [19, 9]], 2: [[0, 1], [3, 9], [4, 10], [5, 4], [6, 7], [7, 6], [9, 7], [11, 7], [12, 8], [14, 10], [15, 8], [16, 1], [19, 7]], 3: [[0, 7], [2, 9], [4, 8], [5, 7], [6, 3], [7, 6], [9, 4], [11, 2], [12, 4], [14, 6], [15, 6], [16, 1], [19, 7]], 4: [[0, 5], [2, 10], [3, 8], [5, 2], [6, 4], [7, 4], [9, 3], [11, 4], [12, 5], [14, 10], [15, 6], [16, 5], [19, 3]], 5: [[0, 9], [2, 4], [3, 7], [4, 2], [6, 5], [7, 4], [9, 3], [11, 3], [12, 5], [14, 6], [15, 9], [16, 5], [19, 8]], 6: [[0, 10], [2, 7], [3, 3], [4, 4], [5, 5], [7, 9], [9, 2], [11, 7], [12, 1], [14, 10], [15, 10], [16, 2], [19, 1]], 7: [[0, 9], [2, 6], [3, 6], [4, 4], [5, 4], [6, 9], [9, 9], [11, 5], [12, 8], [14, 8], [15, 10], [16, 5], [19, 1]], 8: [[2, 3], [3, 7], [4, 1], [5, 6], [6, 7], [7, 4], [9, 5], [11, 1], [12, 9], [14, 5], [15, 2], [16, 7], [19, 5]], 9: [[0, 8], [2, 7], [3, 4], [4, 3], [5, 3], [6, 2], [7, 9], [11, 1], [12, 4], [14, 7], [15, 7], [16, 10], [19, 7]], 10: [[2, 9], [3, 6], [4, 6], [5, 2], [6, 5], [7, 3], [9, 7], [11, 4], [12, 10], [14, 6], [15, 7], [16, 10], [19, 4]], 11: [[0, 6], [2, 7], [3, 2], [4, 4], [5, 3], [6, 7], [7, 5], [9, 1], [12, 10], [14, 6], [15, 2], [16, 5], [19, 3]], 12: [[0, 2], [2, 8], [3, 4], [4, 5], [5, 5], [6, 1], [7, 8], [9, 4], [11, 10], [14, 6], [15, 5], [16, 10], [19, 1]], 13: [[2, 2], [3, 2], [4, 7], [5, 4], [6, 3], [7, 10], [9, 2], [11, 5], [12, 1], [14, 8], [15, 7], [16, 7], [19, 2]], 14: [[0, 10], [2, 10], [3, 6], [4, 10], [5, 6], [6, 10], [7, 8], [9, 7], [11, 6], [12, 6], [15, 5], [16, 3], [19, 5]], 15: [[0, 3], [2, 8], [3, 6], [4, 6], [5, 9], [6, 10], [7, 10], [9, 7], [11, 2], [12, 5], [14, 5], [16, 7], [19, 4]], 16: [[0, 9], [2, 1], [3, 1], [4, 5], [5, 5], [6, 2], [7, 5], [9, 10], [11, 5], [12, 10], [14, 3], [15, 7], [19, 9]], 17: [[2, 7], [3, 4], [4, 4], [5, 9], [6, 4], [7, 2], [9, 1], [11, 1], [12, 9], [14, 4], [15, 5], [16, 5], [19, 6]], 18: [[2, 2], [3, 5], [4, 6], [5, 7], [6, 2], [7, 1], [9, 2], [11, 9], [12, 9], [14, 9], [15, 2], [16, 1], [19, 7]], 19: [[0, 9], [2, 7], [3, 7], [4, 3], [5, 8], [6, 1], [7, 1], [9, 7], [11, 3], [12, 1], [14, 5], [15, 4], [16, 9]], '0': []}).\n",
      "Expected: False\n",
      "Got: True\n",
      "\n",
      "\u001b[91mFailed test case: <function dijkstra_fixed at 0x78beeaa08220> should return False for graph = defaultdict(<class 'list'>, {0: [[1, 4], [3, 9], [7, 1], [11, 8], [12, 3], [13, 7], [14, 7], [17, 8], [18, 8]], 1: [[0, 4], [3, 5], [7, 8], [11, 3], [12, 7], [13, 7], [14, 7], [17, 5], [18, 7]], 2: [[1, 2], [3, 7], [7, 9], [11, 10], [12, 6], [13, 2], [14, 1], [17, 6], [18, 9]], 3: [[0, 9], [1, 5], [7, 3], [11, 1], [12, 2], [13, 4], [14, 4], [17, 6], [18, 5]], 4: [[1, 10], [3, 3], [7, 8], [11, 3], [12, 8], [13, 9], [14, 4], [17, 8], [18, 10]], 5: [[1, 8], [3, 3], [7, 1], [11, 4], [12, 2], [13, 7], [14, 5], [17, 5], [18, 1]], 6: [[1, 8], [3, 1], [7, 5], [11, 3], [12, 3], [13, 4], [14, 8], [17, 7], [18, 3]], 7: [[0, 1], [1, 8], [3, 3], [11, 9], [12, 2], [13, 3], [14, 9], [17, 9], [18, 6]], 8: [[1, 9], [3, 9], [7, 2], [11, 8], [12, 10], [13, 5], [14, 2], [17, 3], [18, 10]], 9: [[1, 5], [3, 7], [7, 10], [11, 5], [12, 4], [13, 6], [14, 6], [17, 1], [18, 4]], 10: [[1, 5], [3, 7], [7, 9], [11, 1], [12, 9], [13, 7], [14, 8], [17, 8], [18, 2]], 11: [[0, 8], [1, 3], [3, 1], [7, 9], [12, 9], [13, 7], [14, 10], [17, 7], [18, 2]], 12: [[0, 3], [1, 7], [3, 2], [7, 2], [11, 9], [13, 4], [14, 4], [17, 1], [18, 9]], 13: [[0, 7], [1, 7], [3, 4], [7, 3], [11, 7], [12, 4], [14, 6], [17, 1], [18, 2]], 14: [[0, 7], [1, 7], [3, 4], [7, 9], [11, 10], [12, 4], [13, 6], [17, 6], [18, 8]], 15: [[1, 5], [3, 2], [7, 1], [11, 6], [12, 9], [13, 4], [14, 1], [17, 1], [18, 7]], 16: [[1, 5], [3, 7], [7, 6], [11, 1], [12, 1], [13, 9], [14, 4], [17, 8], [18, 8]], 17: [[0, 8], [1, 5], [3, 6], [7, 9], [11, 7], [12, 1], [13, 1], [14, 6], [18, 8]], 18: [[0, 8], [1, 7], [3, 5], [7, 6], [11, 2], [12, 9], [13, 2], [14, 8], [17, 8]], 19: [[1, 5], [3, 4], [7, 7], [11, 6], [12, 9], [13, 9], [14, 7], [17, 7], [18, 2]], '0': []}).\n",
      "Expected: False\n",
      "Got: True\n",
      "\n",
      "\u001b[91mFailed test case: <function dijkstra_fixed at 0x78beeaa08220> should return False for graph = defaultdict(<class 'list'>, {0: [[1, 5], [2, 4], [7, 3], [8, 5], [10, 3], [11, 10], [13, 8], [14, 3], [15, 2], [17, 3]], 1: [[0, 5], [2, 3], [7, 7], [8, 1], [10, 1], [11, 9], [13, 3], [14, 7], [15, 5], [17, 10]], 2: [[0, 4], [1, 3], [7, 6], [8, 3], [10, 3], [11, 6], [13, 7], [14, 3], [15, 7], [17, 2]], 3: [[1, 1], [2, 4], [7, 1], [8, 9], [10, 8], [11, 2], [13, 7], [14, 3], [15, 5], [17, 10]], 4: [[1, 1], [2, 6], [7, 9], [8, 1], [10, 2], [11, 7], [13, 5], [14, 2], [15, 3], [17, 7]], 5: [[1, 5], [2, 10], [7, 7], [8, 8], [10, 1], [11, 5], [13, 7], [14, 3], [15, 4], [17, 2]], 6: [[1, 6], [2, 1], [7, 8], [8, 2], [10, 5], [11, 4], [13, 6], [14, 7], [15, 10], [17, 5]], 7: [[0, 3], [1, 7], [2, 6], [8, 8], [10, 10], [11, 5], [13, 7], [14, 4], [15, 8], [17, 4]], 8: [[0, 5], [1, 1], [2, 3], [7, 8], [10, 4], [11, 10], [13, 4], [14, 7], [15, 3], [17, 4]], 9: [[1, 1], [2, 8], [7, 8], [8, 2], [10, 2], [11, 5], [13, 3], [14, 5], [15, 3], [17, 5]], 10: [[0, 3], [1, 1], [2, 3], [7, 10], [8, 4], [11, 4], [13, 4], [14, 10], [15, 2], [17, 2]], 11: [[0, 10], [1, 9], [2, 6], [7, 5], [8, 10], [10, 4], [13, 1], [14, 5], [15, 6], [17, 10]], 12: [[1, 10], [2, 2], [7, 7], [8, 8], [10, 7], [11, 9], [13, 2], [14, 4], [15, 2], [17, 4]], 13: [[0, 8], [1, 3], [2, 7], [7, 7], [8, 4], [10, 4], [11, 1], [14, 4], [15, 5], [17, 10]], 14: [[0, 3], [1, 7], [2, 3], [7, 4], [8, 7], [10, 10], [11, 5], [13, 4], [15, 4], [17, 1]], 15: [[0, 2], [1, 5], [2, 7], [7, 8], [8, 3], [10, 2], [11, 6], [13, 5], [14, 4], [17, 1]], 16: [[1, 3], [2, 4], [7, 1], [8, 3], [10, 3], [11, 5], [13, 7], [14, 5], [15, 8], [17, 6]], 17: [[0, 3], [1, 10], [2, 2], [7, 4], [8, 4], [10, 2], [11, 10], [13, 10], [14, 1], [15, 1]], 18: [[1, 10], [2, 2], [7, 7], [8, 1], [10, 3], [11, 8], [13, 1], [14, 7], [15, 7], [17, 2]], 19: [[1, 3], [2, 2], [7, 7], [8, 3], [10, 2], [11, 10], [13, 10], [14, 9], [15, 6], [17, 7]], '0': []}).\n",
      "Expected: False\n",
      "Got: True\n",
      "\n",
      "\u001b[91mFailed test case: <function dijkstra_fixed at 0x78beeaa08220> should return False for graph = defaultdict(<class 'list'>, {0: [[3, 8], [4, 6], [5, 2], [6, 7], [8, 8], [9, 7], [10, 4], [11, 3], [12, 2], [13, 4], [14, 1], [15, 3], [16, 6], [17, 2], [18, 1], [19, 7]], 1: [[3, 8], [4, 9], [5, 10], [6, 6], [8, 1], [9, 5], [10, 6], [11, 5], [12, 10], [13, 5], [14, 9], [15, 3], [16, 6], [17, 6], [18, 1], [19, 7]], 2: [[3, 2], [4, 6], [5, 4], [6, 4], [8, 5], [9, 7], [10, 4], [11, 6], [12, 3], [13, 3], [14, 6], [15, 7], [16, 7], [17, 10], [18, 9], [19, 2]], 3: [[0, 8], [4, 3], [5, 5], [6, 5], [8, 1], [9, 7], [10, 3], [11, 8], [12, 1], [13, 3], [14, 4], [15, 7], [16, 7], [17, 5], [18, 4], [19, 8]], 4: [[0, 6], [3, 3], [5, 5], [6, 3], [8, 3], [9, 7], [10, 5], [11, 9], [12, 5], [13, 6], [14, 7], [15, 7], [16, 8], [17, 8], [18, 4], [19, 2]], 5: [[0, 2], [3, 5], [4, 5], [6, 6], [8, 2], [9, 2], [10, 10], [11, 9], [12, 2], [13, 1], [14, 9], [15, 2], [16, 3], [17, 8], [18, 5], [19, 7]], 6: [[0, 7], [3, 5], [4, 3], [5, 6], [8, 6], [9, 4], [10, 6], [11, 2], [12, 3], [13, 5], [14, 5], [15, 2], [16, 7], [17, 8], [18, 10], [19, 4]], 7: [[3, 6], [4, 3], [5, 1], [6, 7], [8, 6], [9, 4], [10, 1], [11, 6], [12, 8], [13, 4], [14, 8], [15, 8], [16, 2], [17, 6], [18, 7], [19, 6]], 8: [[0, 8], [3, 1], [4, 3], [5, 2], [6, 6], [9, 4], [10, 2], [11, 3], [12, 4], [13, 1], [14, 8], [15, 6], [16, 9], [17, 3], [18, 9], [19, 7]], 9: [[0, 7], [3, 7], [4, 7], [5, 2], [6, 4], [8, 4], [10, 6], [11, 8], [12, 1], [13, 10], [14, 4], [15, 10], [16, 10], [17, 7], [18, 6], [19, 1]], 10: [[0, 4], [3, 3], [4, 5], [5, 10], [6, 6], [8, 2], [9, 6], [11, 4], [12, 4], [13, 8], [14, 1], [15, 10], [16, 3], [17, 5], [18, 5], [19, 9]], 11: [[0, 3], [3, 8], [4, 9], [5, 9], [6, 2], [8, 3], [9, 8], [10, 4], [12, 5], [13, 4], [14, 2], [15, 2], [16, 5], [17, 8], [18, 2], [19, 6]], 12: [[0, 2], [3, 1], [4, 5], [5, 2], [6, 3], [8, 4], [9, 1], [10, 4], [11, 5], [13, 4], [14, 1], [15, 7], [16, 6], [17, 9], [18, 5], [19, 9]], 13: [[0, 4], [3, 3], [4, 6], [5, 1], [6, 5], [8, 1], [9, 10], [10, 8], [11, 4], [12, 4], [14, 6], [15, 6], [16, 2], [17, 9], [18, 5], [19, 1]], 14: [[0, 1], [3, 4], [4, 7], [5, 9], [6, 5], [8, 8], [9, 4], [10, 1], [11, 2], [12, 1], [13, 6], [15, 3], [16, 2], [17, 4], [18, 2], [19, 3]], 15: [[0, 3], [3, 7], [4, 7], [5, 2], [6, 2], [8, 6], [9, 10], [10, 10], [11, 2], [12, 7], [13, 6], [14, 3], [16, 5], [17, 7], [18, 6], [19, 10]], 16: [[0, 6], [3, 7], [4, 8], [5, 3], [6, 7], [8, 9], [9, 10], [10, 3], [11, 5], [12, 6], [13, 2], [14, 2], [15, 5], [17, 7], [18, 6], [19, 7]], 17: [[0, 2], [3, 5], [4, 8], [5, 8], [6, 8], [8, 3], [9, 7], [10, 5], [11, 8], [12, 9], [13, 9], [14, 4], [15, 7], [16, 7], [18, 3], [19, 1]], 18: [[0, 1], [3, 4], [4, 4], [5, 5], [6, 10], [8, 9], [9, 6], [10, 5], [11, 2], [12, 5], [13, 5], [14, 2], [15, 6], [16, 6], [17, 3], [19, 6]], 19: [[0, 7], [3, 8], [4, 2], [5, 7], [6, 4], [8, 7], [9, 1], [10, 9], [11, 6], [12, 9], [13, 1], [14, 3], [15, 10], [16, 7], [17, 1], [18, 6]], '0': []}).\n",
      "Expected: False\n",
      "Got: True\n",
      "\n",
      "\u001b[91mFailed test case: <function dijkstra_fixed at 0x78beeaa08220> should return False for graph = defaultdict(<class 'list'>, {0: [[1, 8], [2, 3], [3, 8], [4, 9], [5, 8], [6, 2], [7, 4], [8, 10], [9, 8], [10, 1], [11, 6], [12, 3], [13, 3], [14, 10], [17, 9], [18, 4], [19, 5]], 1: [[0, 8], [2, 8], [3, 3], [4, 2], [5, 8], [6, 7], [7, 2], [8, 2], [9, 6], [10, 5], [11, 6], [12, 3], [13, 10], [14, 5], [17, 9], [18, 3], [19, 2]], 2: [[0, 3], [1, 8], [3, 3], [4, 1], [5, 10], [6, 10], [7, 1], [8, 7], [9, 9], [10, 10], [11, 1], [12, 5], [13, 9], [14, 6], [17, 10], [18, 3], [19, 5]], 3: [[0, 8], [1, 3], [2, 3], [4, 10], [5, 5], [6, 7], [7, 7], [8, 10], [9, 7], [10, 2], [11, 6], [12, 9], [13, 10], [14, 5], [17, 6], [18, 7], [19, 10]], 4: [[0, 9], [1, 2], [2, 1], [3, 10], [5, 10], [6, 8], [7, 1], [8, 9], [9, 7], [10, 7], [11, 4], [12, 6], [13, 8], [14, 2], [17, 10], [18, 5], [19, 3]], 5: [[0, 8], [1, 8], [2, 10], [3, 5], [4, 10], [6, 7], [7, 10], [8, 8], [9, 9], [10, 3], [11, 5], [12, 1], [13, 6], [14, 2], [17, 3], [18, 9], [19, 3]], 6: [[0, 2], [1, 7], [2, 10], [3, 7], [4, 8], [5, 7], [7, 10], [8, 9], [9, 8], [10, 8], [11, 8], [12, 7], [13, 10], [14, 3], [17, 5], [18, 8], [19, 4]], 7: [[0, 4], [1, 2], [2, 1], [3, 7], [4, 1], [5, 10], [6, 10], [8, 10], [9, 4], [10, 6], [11, 4], [12, 8], [13, 3], [14, 3], [17, 2], [18, 4], [19, 8]], 8: [[0, 10], [1, 2], [2, 7], [3, 10], [4, 9], [5, 8], [6, 9], [7, 10], [9, 4], [10, 4], [11, 1], [12, 6], [13, 2], [14, 3], [17, 6], [18, 1], [19, 8]], 9: [[0, 8], [1, 6], [2, 9], [3, 7], [4, 7], [5, 9], [6, 8], [7, 4], [8, 4], [10, 9], [11, 3], [12, 1], [13, 6], [14, 1], [17, 7], [18, 2], [19, 10]], 10: [[0, 1], [1, 5], [2, 10], [3, 2], [4, 7], [5, 3], [6, 8], [7, 6], [8, 4], [9, 9], [11, 5], [12, 2], [13, 1], [14, 3], [17, 10], [18, 5], [19, 7]], 11: [[0, 6], [1, 6], [2, 1], [3, 6], [4, 4], [5, 5], [6, 8], [7, 4], [8, 1], [9, 3], [10, 5], [12, 6], [13, 3], [14, 8], [17, 1], [18, 10], [19, 7]], 12: [[0, 3], [1, 3], [2, 5], [3, 9], [4, 6], [5, 1], [6, 7], [7, 8], [8, 6], [9, 1], [10, 2], [11, 6], [13, 4], [14, 8], [17, 5], [18, 7], [19, 7]], 13: [[0, 3], [1, 10], [2, 9], [3, 10], [4, 8], [5, 6], [6, 10], [7, 3], [8, 2], [9, 6], [10, 1], [11, 3], [12, 4], [14, 1], [17, 6], [18, 10], [19, 2]], 14: [[0, 10], [1, 5], [2, 6], [3, 5], [4, 2], [5, 2], [6, 3], [7, 3], [8, 3], [9, 1], [10, 3], [11, 8], [12, 8], [13, 1], [17, 10], [18, 6], [19, 3]], 15: [[1, 10], [2, 3], [3, 6], [4, 4], [5, 2], [6, 2], [7, 10], [8, 3], [9, 2], [10, 6], [11, 5], [12, 4], [13, 5], [14, 3], [17, 9], [18, 3], [19, 4]], 16: [[1, 7], [2, 3], [3, 8], [4, 2], [5, 1], [6, 6], [7, 9], [8, 4], [9, 5], [10, 6], [11, 7], [12, 7], [13, 5], [14, 8], [17, 3], [18, 1], [19, 1]], 17: [[0, 9], [1, 9], [2, 10], [3, 6], [4, 10], [5, 3], [6, 5], [7, 2], [8, 6], [9, 7], [10, 10], [11, 1], [12, 5], [13, 6], [14, 10], [18, 7], [19, 10]], 18: [[0, 4], [1, 3], [2, 3], [3, 7], [4, 5], [5, 9], [6, 8], [7, 4], [8, 1], [9, 2], [10, 5], [11, 10], [12, 7], [13, 10], [14, 6], [17, 7], [19, 2]], 19: [[0, 5], [1, 2], [2, 5], [3, 10], [4, 3], [5, 3], [6, 4], [7, 8], [8, 8], [9, 10], [10, 7], [11, 7], [12, 7], [13, 2], [14, 3], [17, 10], [18, 2]], '0': []}).\n",
      "Expected: False\n",
      "Got: True\n",
      "\n",
      "\u001b[91mFailed test case: <function dijkstra_fixed at 0x78beeaa08220> should return False for graph = defaultdict(<class 'list'>, {0: [[1, 10], [3, 8], [4, 4], [7, 2], [10, 6], [11, 9], [12, 1], [13, 4], [19, 7]], 1: [[0, 10], [3, 5], [4, 3], [7, 4], [10, 9], [11, 9], [12, 4], [13, 2], [19, 2]], 2: [[1, 8], [3, 6], [4, 7], [7, 3], [10, 6], [11, 2], [12, 7], [13, 1], [19, 6]], 3: [[0, 8], [1, 5], [4, 5], [7, 7], [10, 9], [11, 7], [12, 3], [13, 4], [19, 7]], 4: [[0, 4], [1, 3], [3, 5], [7, 8], [10, 7], [11, 9], [12, 5], [13, 10], [19, 5]], 5: [[1, 6], [3, 10], [4, 8], [7, 9], [10, 4], [11, 7], [12, 2], [13, 4], [19, 5]], 6: [[1, 10], [3, 3], [4, 7], [7, 3], [10, 6], [11, 1], [12, 4], [13, 3], [19, 9]], 7: [[0, 2], [1, 4], [3, 7], [4, 8], [10, 4], [11, 4], [12, 7], [13, 6], [19, 8]], 8: [[1, 10], [3, 10], [4, 2], [7, 9], [10, 6], [11, 10], [12, 6], [13, 7], [19, 2]], 9: [[1, 8], [3, 4], [4, 5], [7, 7], [10, 1], [11, 7], [12, 2], [13, 3], [19, 4]], 10: [[0, 6], [1, 9], [3, 9], [4, 7], [7, 4], [11, 4], [12, 7], [13, 6], [19, 3]], 11: [[0, 9], [1, 9], [3, 7], [4, 9], [7, 4], [10, 4], [12, 4], [13, 7], [19, 6]], 12: [[0, 1], [1, 4], [3, 3], [4, 5], [7, 7], [10, 7], [11, 4], [13, 1], [19, 6]], 13: [[0, 4], [1, 2], [3, 4], [4, 10], [7, 6], [10, 6], [11, 7], [12, 1], [19, 10]], 14: [[1, 10], [3, 5], [4, 4], [7, 8], [10, 8], [11, 2], [12, 6], [13, 2], [19, 6]], 15: [[1, 1], [3, 1], [4, 7], [7, 4], [10, 4], [11, 3], [12, 1], [13, 3], [19, 2]], 16: [[1, 8], [3, 2], [4, 6], [7, 5], [10, 3], [11, 5], [12, 7], [13, 3], [19, 10]], 17: [[1, 2], [3, 9], [4, 9], [7, 9], [10, 10], [11, 3], [12, 9], [13, 3], [19, 6]], 18: [[1, 7], [3, 7], [4, 8], [7, 8], [10, 7], [11, 5], [12, 1], [13, 8], [19, 6]], 19: [[0, 7], [1, 2], [3, 7], [4, 5], [7, 8], [10, 3], [11, 6], [12, 6], [13, 10]], '0': []}).\n",
      "Expected: False\n",
      "Got: True\n",
      "\n",
      "\n"
     ]
    }
   ],
   "source": [
    "unittests.test_dijkstra_fixed(dijkstra_fixed)"
   ]
  },
  {
   "cell_type": "markdown",
   "metadata": {
    "id": "LBAGRh1QnF29"
   },
   "source": [
    "### Exercise 3 - Debugging a Stack Implementation\n",
    "\n",
    "In this exercise, you are provided with a stack implementation that harbors an inconsistency. Your task is to pinpoint and rectify this inconsistency. It's crucial that this stack functions similarly to a Python list. Therefore, if there is a method common to both the stack and a Python list, they should operate identically. This information is key to identifying the inconsistency.\n",
    "\n",
    "**Instructions**: Ensure that the corrected class includes all the methods found in the original, buggy class, with the inconsistency addressed.\n",
    "\n",
    "**Constraints**: You are not allowed to import any libraries.\n",
    "\n",
    "**Hints**:\n",
    "- Consider asking an LLM for a detailed explanation of how this stack functions and the intended purpose of its methods.\n",
    "- You might also request example cases from an LLM to better understand and test the functionality of the stack."
   ]
  },
  {
   "cell_type": "code",
   "execution_count": 9,
   "metadata": {},
   "outputs": [],
   "source": [
    "class Stack:\n",
    "    def __init__(self):\n",
    "        self.items = []\n",
    "\n",
    "    def push(self, item):\n",
    "        self.items.append(item)\n",
    "\n",
    "    def pop(self):\n",
    "        if self.items:\n",
    "            return self.items.pop()\n",
    "        else:\n",
    "            return None  \n",
    "\n",
    "    def peek(self):\n",
    "        if self.items:\n",
    "            return self.items[-1]\n",
    "        else:\n",
    "            return None  \n",
    "\n",
    "    def is_empty(self):\n",
    "        return len(self.items) == 0\n",
    "\n",
    "    def size(self):\n",
    "        return len(self.items)"
   ]
  },
  {
   "cell_type": "code",
   "execution_count": 10,
   "metadata": {
    "id": "lEjXlLg9lYEU",
    "tags": [
     "graded"
    ]
   },
   "outputs": [],
   "source": [
    "# Exercise block. Do not change any method/constructor call from the original class.\n",
    "class StackFixed:\n",
    "    def __init__(self):\n",
    "        self.stack = []\n",
    "\n",
    "    def push(self, value):\n",
    "        self.stack.append(value)\n",
    "\n",
    "    def pop(self):\n",
    "        if self.is_empty():\n",
    "            raise IndexError(\"Pop from empty stack\")\n",
    "        return self.stack.pop()\n",
    "\n",
    "    def peek(self):\n",
    "        if self.is_empty():\n",
    "            raise IndexError(\"Peek from empty stack\")\n",
    "        return self.stack[-1]\n",
    "\n",
    "    def is_empty(self):\n",
    "        return len(self.stack) == 0\n",
    "\n",
    "    def size(self):\n",
    "        return len(self.stack)"
   ]
  },
  {
   "cell_type": "code",
   "execution_count": 11,
   "metadata": {},
   "outputs": [
    {
     "name": "stdout",
     "output_type": "stream",
     "text": [
      "\u001b[92m All tests passed!\n"
     ]
    }
   ],
   "source": [
    "unittests.test_StackFixed(StackFixed)"
   ]
  },
  {
   "cell_type": "markdown",
   "metadata": {
    "id": "iGU_mvSK7JE2"
   },
   "source": [
    "### Exercise 4 - Buggy linked List\n",
    "\n",
    "In this exercise, a `Node` and a `Doubly Linked List` class is provided. You must find the bug in one method of `Doubly Linked List` class and fix it. The `Node` class is fixed and you **must not** edit it.\n",
    "\n",
    "**Instructions**: The fixed class must have every method that the buggy class has, but with the bug fixed.\n",
    "\n",
    "**Constraints**: No library can be imported.\n",
    "\n",
    "**Hints**: \n",
    "- You may ask an LLM to explain the classes for you.\n",
    "- You may also ask an LLM to make some example cases for you."
   ]
  },
  {
   "cell_type": "code",
   "execution_count": 12,
   "metadata": {
    "tags": [
     "graded"
    ]
   },
   "outputs": [],
   "source": [
    "## Do NOT modify this class.\n",
    "class Node:\n",
    "\tdef __init__(self, data):\n",
    "\t\tself.data = data\n",
    "\t\tself.prev = None\n",
    "\t\tself.next = None"
   ]
  },
  {
   "cell_type": "code",
   "execution_count": 13,
   "metadata": {
    "id": "Tfe2Ztiu7IVO"
   },
   "outputs": [],
   "source": [
    "class DoublyLinkedList:\n",
    "\tdef __init__(self):\n",
    "\t\tself.head = None\n",
    "\t\tself.tail = None\n",
    "\n",
    "\tdef add_node(self, data):\n",
    "\t\tnew_node = Node(data)\n",
    "\t\tif not self.head:\n",
    "\t\t\tself.head = new_node\n",
    "\t\t\tself.tail = new_node\n",
    "\t\telse:\n",
    "\t\t\tself.tail.next = new_node\n",
    "\t\t\tnew_node.prev = self.tail\n",
    "\t\t\tself.tail = new_node\n",
    "\t\treturn new_node\n",
    "\n",
    "\tdef link_nodes(self, node1, node2):\n",
    "\t\tnode1.next = node2\n",
    "\t\tnode2.prev = node1\n",
    "\n",
    "\tdef traverse(self):\n",
    "\t\tvisited = []\n",
    "\t\tcurrent = self.head\n",
    "\t\twhile current:\n",
    "\t\t\tvisited.append(current)\n",
    "\t\t\tcurrent = current.next\n",
    "\t\treturn visited"
   ]
  },
  {
   "cell_type": "code",
   "execution_count": 18,
   "metadata": {
    "tags": [
     "graded"
    ]
   },
   "outputs": [],
   "source": [
    "# Graded block. Do not change the input of any method/constructor already implemented.\n",
    "\n",
    "class DoublyLinkedListFixed:\n",
    "    def __init__(self):\n",
    "        self.head = None\n",
    "        self.tail = None\n",
    "\n",
    "    def add_node(self, data):\n",
    "        new_node = Node(data)\n",
    "        if not self.head:\n",
    "            self.head = new_node\n",
    "            self.tail = new_node\n",
    "        else:\n",
    "            self.tail.next = new_node\n",
    "            new_node.prev = self.tail\n",
    "            self.tail = new_node\n",
    "\n",
    "    def link_nodes(self, tail, head):\n",
    "        # Link the tail to the head to make a circular doubly linked list\n",
    "        if tail and head:\n",
    "            tail.next = head\n",
    "            head.prev = tail\n",
    "\n",
    "    def traverse(self):\n",
    "        nodes = []\n",
    "        current = self.head\n",
    "        while current:\n",
    "            nodes.append(current)\n",
    "            current = current.next\n",
    "            if current == self.head:\n",
    "                break\n",
    "        return nodes"
   ]
  },
  {
   "cell_type": "code",
   "execution_count": 19,
   "metadata": {},
   "outputs": [
    {
     "name": "stdout",
     "output_type": "stream",
     "text": [
      "\u001b[92m All tests passed!\n"
     ]
    }
   ],
   "source": [
    "unittests.test_DoublyLinkedListFixed(DoublyLinkedListFixed)"
   ]
  },
  {
   "cell_type": "markdown",
   "metadata": {},
   "source": [
    "Congratulations! You've completed the first assignment in the Generative AI for Software Development - Team Software Engineering course. Keep up the good work!"
   ]
  }
 ],
 "metadata": {
  "colab": {
   "provenance": []
  },
  "grader_version": "1",
  "kernelspec": {
   "display_name": "Python 3 (ipykernel)",
   "language": "python",
   "name": "python3"
  },
  "language_info": {
   "codemirror_mode": {
    "name": "ipython",
    "version": 3
   },
   "file_extension": ".py",
   "mimetype": "text/x-python",
   "name": "python",
   "nbconvert_exporter": "python",
   "pygments_lexer": "ipython3",
   "version": "3.11.9"
  }
 },
 "nbformat": 4,
 "nbformat_minor": 4
}
